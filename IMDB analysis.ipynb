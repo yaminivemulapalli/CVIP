{
 "cells": [
  {
   "cell_type": "code",
   "execution_count": 1,
   "id": "e0be9082",
   "metadata": {},
   "outputs": [],
   "source": [
    "#importing the required packages\n",
    "import pandas as pd\n",
    "import numpy as np\n",
    "import matplotlib.pyplot as plt\n",
    "import seaborn as sns\n",
    "\n"
   ]
  },
  {
   "cell_type": "code",
   "execution_count": 2,
   "id": "bb4b43c2",
   "metadata": {},
   "outputs": [],
   "source": [
    "#Reading a sample dataset for the analysis\n",
    "df=pd.read_csv('movies.csv')"
   ]
  },
  {
   "cell_type": "code",
   "execution_count": 3,
   "id": "8fa25275",
   "metadata": {},
   "outputs": [
    {
     "data": {
      "text/html": [
       "<div>\n",
       "<style scoped>\n",
       "    .dataframe tbody tr th:only-of-type {\n",
       "        vertical-align: middle;\n",
       "    }\n",
       "\n",
       "    .dataframe tbody tr th {\n",
       "        vertical-align: top;\n",
       "    }\n",
       "\n",
       "    .dataframe thead th {\n",
       "        text-align: right;\n",
       "    }\n",
       "</style>\n",
       "<table border=\"1\" class=\"dataframe\">\n",
       "  <thead>\n",
       "    <tr style=\"text-align: right;\">\n",
       "      <th></th>\n",
       "      <th>rank</th>\n",
       "      <th>id</th>\n",
       "      <th>name</th>\n",
       "      <th>year</th>\n",
       "      <th>imbd_votes</th>\n",
       "      <th>imdb_rating</th>\n",
       "      <th>certificate</th>\n",
       "      <th>duration</th>\n",
       "      <th>genre</th>\n",
       "      <th>cast_id</th>\n",
       "      <th>cast_name</th>\n",
       "      <th>director_id</th>\n",
       "      <th>director_name</th>\n",
       "      <th>writter_name</th>\n",
       "      <th>writter_id</th>\n",
       "      <th>img_link</th>\n",
       "    </tr>\n",
       "  </thead>\n",
       "  <tbody>\n",
       "    <tr>\n",
       "      <th>0</th>\n",
       "      <td>1</td>\n",
       "      <td>tt0111161</td>\n",
       "      <td>The Shawshank Redemption</td>\n",
       "      <td>1994</td>\n",
       "      <td>2601152</td>\n",
       "      <td>9.3</td>\n",
       "      <td>A</td>\n",
       "      <td>142</td>\n",
       "      <td>Drama</td>\n",
       "      <td>nm0000209,nm0000151,nm0348409,nm0006669,nm0000...</td>\n",
       "      <td>Tim Robbins,Morgan Freeman,Bob Gunton,William ...</td>\n",
       "      <td>nm0001104</td>\n",
       "      <td>Frank Darabont</td>\n",
       "      <td>Stephen King,Frank Darabont</td>\n",
       "      <td>nm0000175,nm0001104</td>\n",
       "      <td>https://m.media-amazon.com/images/M/MV5BMDFkYT...</td>\n",
       "    </tr>\n",
       "    <tr>\n",
       "      <th>1</th>\n",
       "      <td>2</td>\n",
       "      <td>tt0068646</td>\n",
       "      <td>The Godfather</td>\n",
       "      <td>1972</td>\n",
       "      <td>1796656</td>\n",
       "      <td>9.2</td>\n",
       "      <td>A</td>\n",
       "      <td>175</td>\n",
       "      <td>Crime,Drama</td>\n",
       "      <td>nm0000008,nm0000199,nm0001001,nm0000473,nm0144...</td>\n",
       "      <td>Marlon Brando,Al Pacino,James Caan,Diane Keato...</td>\n",
       "      <td>nm0000338</td>\n",
       "      <td>Francis Ford Coppola</td>\n",
       "      <td>Mario Puzo,Francis Ford Coppola</td>\n",
       "      <td>nm0701374,nm0000338</td>\n",
       "      <td>https://m.media-amazon.com/images/M/MV5BM2MyNj...</td>\n",
       "    </tr>\n",
       "    <tr>\n",
       "      <th>2</th>\n",
       "      <td>3</td>\n",
       "      <td>tt0468569</td>\n",
       "      <td>The Dark Knight</td>\n",
       "      <td>2008</td>\n",
       "      <td>2572662</td>\n",
       "      <td>9.0</td>\n",
       "      <td>UA</td>\n",
       "      <td>152</td>\n",
       "      <td>Action,Crime,Drama</td>\n",
       "      <td>nm0000288,nm0005132,nm0001173,nm0000323,nm0350...</td>\n",
       "      <td>Christian Bale,Heath Ledger,Aaron Eckhart,Mich...</td>\n",
       "      <td>nm0634240</td>\n",
       "      <td>Christopher Nolan</td>\n",
       "      <td>Jonathan Nolan,Christopher Nolan,David S. Goyer</td>\n",
       "      <td>nm0634300,nm0634240,nm0275286</td>\n",
       "      <td>https://m.media-amazon.com/images/M/MV5BMTMxNT...</td>\n",
       "    </tr>\n",
       "    <tr>\n",
       "      <th>3</th>\n",
       "      <td>4</td>\n",
       "      <td>tt0071562</td>\n",
       "      <td>The Godfather Part II</td>\n",
       "      <td>1974</td>\n",
       "      <td>1237934</td>\n",
       "      <td>9.0</td>\n",
       "      <td>A</td>\n",
       "      <td>202</td>\n",
       "      <td>Crime,Drama</td>\n",
       "      <td>nm0000199,nm0000134,nm0000380,nm0000473,nm0001...</td>\n",
       "      <td>Al Pacino,Robert De Niro,Robert Duvall,Diane K...</td>\n",
       "      <td>nm0000338</td>\n",
       "      <td>Francis Ford Coppola</td>\n",
       "      <td>Francis Ford Coppola,Mario Puzo</td>\n",
       "      <td>nm0000338,nm0701374</td>\n",
       "      <td>https://m.media-amazon.com/images/M/MV5BMWMwMG...</td>\n",
       "    </tr>\n",
       "    <tr>\n",
       "      <th>4</th>\n",
       "      <td>5</td>\n",
       "      <td>tt0050083</td>\n",
       "      <td>12 Angry Men</td>\n",
       "      <td>1957</td>\n",
       "      <td>768548</td>\n",
       "      <td>9.0</td>\n",
       "      <td>U</td>\n",
       "      <td>96</td>\n",
       "      <td>Crime,Drama</td>\n",
       "      <td>nm0000020,nm0002011,nm0000842,nm0275835,nm0550...</td>\n",
       "      <td>Henry Fonda,Lee J. Cobb,Martin Balsam,John Fie...</td>\n",
       "      <td>nm0001486</td>\n",
       "      <td>Sidney Lumet</td>\n",
       "      <td>Reginald Rose</td>\n",
       "      <td>nm0741627</td>\n",
       "      <td>https://m.media-amazon.com/images/M/MV5BMWU4N2...</td>\n",
       "    </tr>\n",
       "    <tr>\n",
       "      <th>...</th>\n",
       "      <td>...</td>\n",
       "      <td>...</td>\n",
       "      <td>...</td>\n",
       "      <td>...</td>\n",
       "      <td>...</td>\n",
       "      <td>...</td>\n",
       "      <td>...</td>\n",
       "      <td>...</td>\n",
       "      <td>...</td>\n",
       "      <td>...</td>\n",
       "      <td>...</td>\n",
       "      <td>...</td>\n",
       "      <td>...</td>\n",
       "      <td>...</td>\n",
       "      <td>...</td>\n",
       "      <td>...</td>\n",
       "    </tr>\n",
       "    <tr>\n",
       "      <th>245</th>\n",
       "      <td>246</td>\n",
       "      <td>tt15097216</td>\n",
       "      <td>Jai Bhim</td>\n",
       "      <td>2021</td>\n",
       "      <td>190981</td>\n",
       "      <td>8.9</td>\n",
       "      <td>A</td>\n",
       "      <td>164</td>\n",
       "      <td>Crime,Drama,Mystery</td>\n",
       "      <td>nm1421814,nm7934649,nm8904193,nm8135195,nm0695...</td>\n",
       "      <td>Suriya,Lijo Mol Jose,Manikandan K.,Rajisha Vij...</td>\n",
       "      <td>nm4377096</td>\n",
       "      <td>T.J. Gnanavel</td>\n",
       "      <td>T.J. Gnanavel,Rajendra Sapre</td>\n",
       "      <td>nm4377096,nm13222819</td>\n",
       "      <td>https://m.media-amazon.com/images/M/MV5BYzgwOD...</td>\n",
       "    </tr>\n",
       "    <tr>\n",
       "      <th>246</th>\n",
       "      <td>247</td>\n",
       "      <td>tt0103639</td>\n",
       "      <td>Aladdin</td>\n",
       "      <td>1992</td>\n",
       "      <td>406751</td>\n",
       "      <td>8.0</td>\n",
       "      <td>U</td>\n",
       "      <td>90</td>\n",
       "      <td>Animation,Adventure,Comedy</td>\n",
       "      <td>nm0918334,nm0000245,nm0488306,nm0293455,nm0919...</td>\n",
       "      <td>Scott Weinger,Robin Williams,Linda Larkin,Jona...</td>\n",
       "      <td>nm0166256,nm0615780</td>\n",
       "      <td>Ron Clements,John Musker</td>\n",
       "      <td>Ron Clements,John Musker,Ted Elliott</td>\n",
       "      <td>nm0166256,nm0615780,nm0254645</td>\n",
       "      <td>https://m.media-amazon.com/images/M/MV5BMTM5OT...</td>\n",
       "    </tr>\n",
       "    <tr>\n",
       "      <th>247</th>\n",
       "      <td>248</td>\n",
       "      <td>tt0083987</td>\n",
       "      <td>Gandhi</td>\n",
       "      <td>1982</td>\n",
       "      <td>228938</td>\n",
       "      <td>8.1</td>\n",
       "      <td>U</td>\n",
       "      <td>191</td>\n",
       "      <td>Biography,Drama</td>\n",
       "      <td>nm0001426,nm0000024,nm0368990,nm0786022,nm0000...</td>\n",
       "      <td>Ben Kingsley,John Gielgud,Rohini Hattangadi,Ro...</td>\n",
       "      <td>nm0000277</td>\n",
       "      <td>Richard Attenborough</td>\n",
       "      <td>John Briley</td>\n",
       "      <td>nm0109300</td>\n",
       "      <td>https://m.media-amazon.com/images/M/MV5BY2Q2ND...</td>\n",
       "    </tr>\n",
       "    <tr>\n",
       "      <th>248</th>\n",
       "      <td>249</td>\n",
       "      <td>tt1454029</td>\n",
       "      <td>The Help</td>\n",
       "      <td>2011</td>\n",
       "      <td>451856</td>\n",
       "      <td>8.1</td>\n",
       "      <td>UA</td>\n",
       "      <td>146</td>\n",
       "      <td>Drama</td>\n",
       "      <td>nm1297015,nm0205626,nm0818055,nm0397171,nm1567...</td>\n",
       "      <td>Emma Stone,Viola Davis,Octavia Spencer,Bryce D...</td>\n",
       "      <td>nm0853238</td>\n",
       "      <td>Tate Taylor</td>\n",
       "      <td>Tate Taylor,Kathryn Stockett</td>\n",
       "      <td>nm0853238,nm3543826</td>\n",
       "      <td>https://m.media-amazon.com/images/M/MV5BOGVmZG...</td>\n",
       "    </tr>\n",
       "    <tr>\n",
       "      <th>249</th>\n",
       "      <td>250</td>\n",
       "      <td>tt0101414</td>\n",
       "      <td>Beauty and the Beast</td>\n",
       "      <td>1991</td>\n",
       "      <td>445617</td>\n",
       "      <td>8.0</td>\n",
       "      <td>U</td>\n",
       "      <td>84</td>\n",
       "      <td>Animation,Family,Fantasy</td>\n",
       "      <td>nm0641314,nm0000913,nm0181425,nm0263591,nm0001...</td>\n",
       "      <td>Paige O'Hara,Robby Benson,Jesse Corti,Rex Ever...</td>\n",
       "      <td>nm0873779,nm0936374</td>\n",
       "      <td>Gary Trousdale,Kirk Wise</td>\n",
       "      <td>Linda Woolverton,Brenda Chapman,Chris Sanders</td>\n",
       "      <td>nm0941314,nm0152312,nm0761498</td>\n",
       "      <td>https://m.media-amazon.com/images/M/MV5BNjk1Nj...</td>\n",
       "    </tr>\n",
       "  </tbody>\n",
       "</table>\n",
       "<p>250 rows × 16 columns</p>\n",
       "</div>"
      ],
      "text/plain": [
       "     rank          id                      name  year  imbd_votes   \n",
       "0       1   tt0111161  The Shawshank Redemption  1994     2601152  \\\n",
       "1       2   tt0068646             The Godfather  1972     1796656   \n",
       "2       3   tt0468569           The Dark Knight  2008     2572662   \n",
       "3       4   tt0071562     The Godfather Part II  1974     1237934   \n",
       "4       5   tt0050083              12 Angry Men  1957      768548   \n",
       "..    ...         ...                       ...   ...         ...   \n",
       "245   246  tt15097216                  Jai Bhim  2021      190981   \n",
       "246   247   tt0103639                   Aladdin  1992      406751   \n",
       "247   248   tt0083987                    Gandhi  1982      228938   \n",
       "248   249   tt1454029                  The Help  2011      451856   \n",
       "249   250   tt0101414      Beauty and the Beast  1991      445617   \n",
       "\n",
       "     imdb_rating certificate duration                       genre   \n",
       "0            9.3           A      142                       Drama  \\\n",
       "1            9.2           A      175                 Crime,Drama   \n",
       "2            9.0          UA      152          Action,Crime,Drama   \n",
       "3            9.0           A      202                 Crime,Drama   \n",
       "4            9.0           U       96                 Crime,Drama   \n",
       "..           ...         ...      ...                         ...   \n",
       "245          8.9           A      164         Crime,Drama,Mystery   \n",
       "246          8.0           U       90  Animation,Adventure,Comedy   \n",
       "247          8.1           U      191             Biography,Drama   \n",
       "248          8.1          UA      146                       Drama   \n",
       "249          8.0           U       84    Animation,Family,Fantasy   \n",
       "\n",
       "                                               cast_id   \n",
       "0    nm0000209,nm0000151,nm0348409,nm0006669,nm0000...  \\\n",
       "1    nm0000008,nm0000199,nm0001001,nm0000473,nm0144...   \n",
       "2    nm0000288,nm0005132,nm0001173,nm0000323,nm0350...   \n",
       "3    nm0000199,nm0000134,nm0000380,nm0000473,nm0001...   \n",
       "4    nm0000020,nm0002011,nm0000842,nm0275835,nm0550...   \n",
       "..                                                 ...   \n",
       "245  nm1421814,nm7934649,nm8904193,nm8135195,nm0695...   \n",
       "246  nm0918334,nm0000245,nm0488306,nm0293455,nm0919...   \n",
       "247  nm0001426,nm0000024,nm0368990,nm0786022,nm0000...   \n",
       "248  nm1297015,nm0205626,nm0818055,nm0397171,nm1567...   \n",
       "249  nm0641314,nm0000913,nm0181425,nm0263591,nm0001...   \n",
       "\n",
       "                                             cast_name          director_id   \n",
       "0    Tim Robbins,Morgan Freeman,Bob Gunton,William ...            nm0001104  \\\n",
       "1    Marlon Brando,Al Pacino,James Caan,Diane Keato...            nm0000338   \n",
       "2    Christian Bale,Heath Ledger,Aaron Eckhart,Mich...            nm0634240   \n",
       "3    Al Pacino,Robert De Niro,Robert Duvall,Diane K...            nm0000338   \n",
       "4    Henry Fonda,Lee J. Cobb,Martin Balsam,John Fie...            nm0001486   \n",
       "..                                                 ...                  ...   \n",
       "245  Suriya,Lijo Mol Jose,Manikandan K.,Rajisha Vij...            nm4377096   \n",
       "246  Scott Weinger,Robin Williams,Linda Larkin,Jona...  nm0166256,nm0615780   \n",
       "247  Ben Kingsley,John Gielgud,Rohini Hattangadi,Ro...            nm0000277   \n",
       "248  Emma Stone,Viola Davis,Octavia Spencer,Bryce D...            nm0853238   \n",
       "249  Paige O'Hara,Robby Benson,Jesse Corti,Rex Ever...  nm0873779,nm0936374   \n",
       "\n",
       "                director_name   \n",
       "0              Frank Darabont  \\\n",
       "1        Francis Ford Coppola   \n",
       "2           Christopher Nolan   \n",
       "3        Francis Ford Coppola   \n",
       "4                Sidney Lumet   \n",
       "..                        ...   \n",
       "245             T.J. Gnanavel   \n",
       "246  Ron Clements,John Musker   \n",
       "247      Richard Attenborough   \n",
       "248               Tate Taylor   \n",
       "249  Gary Trousdale,Kirk Wise   \n",
       "\n",
       "                                        writter_name   \n",
       "0                        Stephen King,Frank Darabont  \\\n",
       "1                    Mario Puzo,Francis Ford Coppola   \n",
       "2    Jonathan Nolan,Christopher Nolan,David S. Goyer   \n",
       "3                    Francis Ford Coppola,Mario Puzo   \n",
       "4                                      Reginald Rose   \n",
       "..                                               ...   \n",
       "245                     T.J. Gnanavel,Rajendra Sapre   \n",
       "246             Ron Clements,John Musker,Ted Elliott   \n",
       "247                                      John Briley   \n",
       "248                     Tate Taylor,Kathryn Stockett   \n",
       "249    Linda Woolverton,Brenda Chapman,Chris Sanders   \n",
       "\n",
       "                        writter_id   \n",
       "0              nm0000175,nm0001104  \\\n",
       "1              nm0701374,nm0000338   \n",
       "2    nm0634300,nm0634240,nm0275286   \n",
       "3              nm0000338,nm0701374   \n",
       "4                        nm0741627   \n",
       "..                             ...   \n",
       "245           nm4377096,nm13222819   \n",
       "246  nm0166256,nm0615780,nm0254645   \n",
       "247                      nm0109300   \n",
       "248            nm0853238,nm3543826   \n",
       "249  nm0941314,nm0152312,nm0761498   \n",
       "\n",
       "                                              img_link  \n",
       "0    https://m.media-amazon.com/images/M/MV5BMDFkYT...  \n",
       "1    https://m.media-amazon.com/images/M/MV5BM2MyNj...  \n",
       "2    https://m.media-amazon.com/images/M/MV5BMTMxNT...  \n",
       "3    https://m.media-amazon.com/images/M/MV5BMWMwMG...  \n",
       "4    https://m.media-amazon.com/images/M/MV5BMWU4N2...  \n",
       "..                                                 ...  \n",
       "245  https://m.media-amazon.com/images/M/MV5BYzgwOD...  \n",
       "246  https://m.media-amazon.com/images/M/MV5BMTM5OT...  \n",
       "247  https://m.media-amazon.com/images/M/MV5BY2Q2ND...  \n",
       "248  https://m.media-amazon.com/images/M/MV5BOGVmZG...  \n",
       "249  https://m.media-amazon.com/images/M/MV5BNjk1Nj...  \n",
       "\n",
       "[250 rows x 16 columns]"
      ]
     },
     "execution_count": 3,
     "metadata": {},
     "output_type": "execute_result"
    }
   ],
   "source": [
    "#To print the loaded dataset\n",
    "df"
   ]
  },
  {
   "cell_type": "code",
   "execution_count": 4,
   "id": "1ac7f7e2",
   "metadata": {},
   "outputs": [
    {
     "data": {
      "text/html": [
       "<div>\n",
       "<style scoped>\n",
       "    .dataframe tbody tr th:only-of-type {\n",
       "        vertical-align: middle;\n",
       "    }\n",
       "\n",
       "    .dataframe tbody tr th {\n",
       "        vertical-align: top;\n",
       "    }\n",
       "\n",
       "    .dataframe thead th {\n",
       "        text-align: right;\n",
       "    }\n",
       "</style>\n",
       "<table border=\"1\" class=\"dataframe\">\n",
       "  <thead>\n",
       "    <tr style=\"text-align: right;\">\n",
       "      <th></th>\n",
       "      <th>rank</th>\n",
       "      <th>id</th>\n",
       "      <th>name</th>\n",
       "      <th>year</th>\n",
       "      <th>imbd_votes</th>\n",
       "      <th>imdb_rating</th>\n",
       "      <th>certificate</th>\n",
       "      <th>duration</th>\n",
       "      <th>genre</th>\n",
       "      <th>cast_id</th>\n",
       "      <th>cast_name</th>\n",
       "      <th>director_id</th>\n",
       "      <th>director_name</th>\n",
       "      <th>writter_name</th>\n",
       "      <th>writter_id</th>\n",
       "      <th>img_link</th>\n",
       "    </tr>\n",
       "  </thead>\n",
       "  <tbody>\n",
       "    <tr>\n",
       "      <th>0</th>\n",
       "      <td>1</td>\n",
       "      <td>tt0111161</td>\n",
       "      <td>The Shawshank Redemption</td>\n",
       "      <td>1994</td>\n",
       "      <td>2601152</td>\n",
       "      <td>9.3</td>\n",
       "      <td>A</td>\n",
       "      <td>142</td>\n",
       "      <td>Drama</td>\n",
       "      <td>nm0000209,nm0000151,nm0348409,nm0006669,nm0000...</td>\n",
       "      <td>Tim Robbins,Morgan Freeman,Bob Gunton,William ...</td>\n",
       "      <td>nm0001104</td>\n",
       "      <td>Frank Darabont</td>\n",
       "      <td>Stephen King,Frank Darabont</td>\n",
       "      <td>nm0000175,nm0001104</td>\n",
       "      <td>https://m.media-amazon.com/images/M/MV5BMDFkYT...</td>\n",
       "    </tr>\n",
       "    <tr>\n",
       "      <th>1</th>\n",
       "      <td>2</td>\n",
       "      <td>tt0068646</td>\n",
       "      <td>The Godfather</td>\n",
       "      <td>1972</td>\n",
       "      <td>1796656</td>\n",
       "      <td>9.2</td>\n",
       "      <td>A</td>\n",
       "      <td>175</td>\n",
       "      <td>Crime,Drama</td>\n",
       "      <td>nm0000008,nm0000199,nm0001001,nm0000473,nm0144...</td>\n",
       "      <td>Marlon Brando,Al Pacino,James Caan,Diane Keato...</td>\n",
       "      <td>nm0000338</td>\n",
       "      <td>Francis Ford Coppola</td>\n",
       "      <td>Mario Puzo,Francis Ford Coppola</td>\n",
       "      <td>nm0701374,nm0000338</td>\n",
       "      <td>https://m.media-amazon.com/images/M/MV5BM2MyNj...</td>\n",
       "    </tr>\n",
       "    <tr>\n",
       "      <th>2</th>\n",
       "      <td>3</td>\n",
       "      <td>tt0468569</td>\n",
       "      <td>The Dark Knight</td>\n",
       "      <td>2008</td>\n",
       "      <td>2572662</td>\n",
       "      <td>9.0</td>\n",
       "      <td>UA</td>\n",
       "      <td>152</td>\n",
       "      <td>Action,Crime,Drama</td>\n",
       "      <td>nm0000288,nm0005132,nm0001173,nm0000323,nm0350...</td>\n",
       "      <td>Christian Bale,Heath Ledger,Aaron Eckhart,Mich...</td>\n",
       "      <td>nm0634240</td>\n",
       "      <td>Christopher Nolan</td>\n",
       "      <td>Jonathan Nolan,Christopher Nolan,David S. Goyer</td>\n",
       "      <td>nm0634300,nm0634240,nm0275286</td>\n",
       "      <td>https://m.media-amazon.com/images/M/MV5BMTMxNT...</td>\n",
       "    </tr>\n",
       "    <tr>\n",
       "      <th>3</th>\n",
       "      <td>4</td>\n",
       "      <td>tt0071562</td>\n",
       "      <td>The Godfather Part II</td>\n",
       "      <td>1974</td>\n",
       "      <td>1237934</td>\n",
       "      <td>9.0</td>\n",
       "      <td>A</td>\n",
       "      <td>202</td>\n",
       "      <td>Crime,Drama</td>\n",
       "      <td>nm0000199,nm0000134,nm0000380,nm0000473,nm0001...</td>\n",
       "      <td>Al Pacino,Robert De Niro,Robert Duvall,Diane K...</td>\n",
       "      <td>nm0000338</td>\n",
       "      <td>Francis Ford Coppola</td>\n",
       "      <td>Francis Ford Coppola,Mario Puzo</td>\n",
       "      <td>nm0000338,nm0701374</td>\n",
       "      <td>https://m.media-amazon.com/images/M/MV5BMWMwMG...</td>\n",
       "    </tr>\n",
       "    <tr>\n",
       "      <th>4</th>\n",
       "      <td>5</td>\n",
       "      <td>tt0050083</td>\n",
       "      <td>12 Angry Men</td>\n",
       "      <td>1957</td>\n",
       "      <td>768548</td>\n",
       "      <td>9.0</td>\n",
       "      <td>U</td>\n",
       "      <td>96</td>\n",
       "      <td>Crime,Drama</td>\n",
       "      <td>nm0000020,nm0002011,nm0000842,nm0275835,nm0550...</td>\n",
       "      <td>Henry Fonda,Lee J. Cobb,Martin Balsam,John Fie...</td>\n",
       "      <td>nm0001486</td>\n",
       "      <td>Sidney Lumet</td>\n",
       "      <td>Reginald Rose</td>\n",
       "      <td>nm0741627</td>\n",
       "      <td>https://m.media-amazon.com/images/M/MV5BMWU4N2...</td>\n",
       "    </tr>\n",
       "  </tbody>\n",
       "</table>\n",
       "</div>"
      ],
      "text/plain": [
       "   rank         id                      name  year  imbd_votes  imdb_rating   \n",
       "0     1  tt0111161  The Shawshank Redemption  1994     2601152          9.3  \\\n",
       "1     2  tt0068646             The Godfather  1972     1796656          9.2   \n",
       "2     3  tt0468569           The Dark Knight  2008     2572662          9.0   \n",
       "3     4  tt0071562     The Godfather Part II  1974     1237934          9.0   \n",
       "4     5  tt0050083              12 Angry Men  1957      768548          9.0   \n",
       "\n",
       "  certificate duration               genre   \n",
       "0           A      142               Drama  \\\n",
       "1           A      175         Crime,Drama   \n",
       "2          UA      152  Action,Crime,Drama   \n",
       "3           A      202         Crime,Drama   \n",
       "4           U       96         Crime,Drama   \n",
       "\n",
       "                                             cast_id   \n",
       "0  nm0000209,nm0000151,nm0348409,nm0006669,nm0000...  \\\n",
       "1  nm0000008,nm0000199,nm0001001,nm0000473,nm0144...   \n",
       "2  nm0000288,nm0005132,nm0001173,nm0000323,nm0350...   \n",
       "3  nm0000199,nm0000134,nm0000380,nm0000473,nm0001...   \n",
       "4  nm0000020,nm0002011,nm0000842,nm0275835,nm0550...   \n",
       "\n",
       "                                           cast_name director_id   \n",
       "0  Tim Robbins,Morgan Freeman,Bob Gunton,William ...   nm0001104  \\\n",
       "1  Marlon Brando,Al Pacino,James Caan,Diane Keato...   nm0000338   \n",
       "2  Christian Bale,Heath Ledger,Aaron Eckhart,Mich...   nm0634240   \n",
       "3  Al Pacino,Robert De Niro,Robert Duvall,Diane K...   nm0000338   \n",
       "4  Henry Fonda,Lee J. Cobb,Martin Balsam,John Fie...   nm0001486   \n",
       "\n",
       "          director_name                                     writter_name   \n",
       "0        Frank Darabont                      Stephen King,Frank Darabont  \\\n",
       "1  Francis Ford Coppola                  Mario Puzo,Francis Ford Coppola   \n",
       "2     Christopher Nolan  Jonathan Nolan,Christopher Nolan,David S. Goyer   \n",
       "3  Francis Ford Coppola                  Francis Ford Coppola,Mario Puzo   \n",
       "4          Sidney Lumet                                    Reginald Rose   \n",
       "\n",
       "                      writter_id   \n",
       "0            nm0000175,nm0001104  \\\n",
       "1            nm0701374,nm0000338   \n",
       "2  nm0634300,nm0634240,nm0275286   \n",
       "3            nm0000338,nm0701374   \n",
       "4                      nm0741627   \n",
       "\n",
       "                                            img_link  \n",
       "0  https://m.media-amazon.com/images/M/MV5BMDFkYT...  \n",
       "1  https://m.media-amazon.com/images/M/MV5BM2MyNj...  \n",
       "2  https://m.media-amazon.com/images/M/MV5BMTMxNT...  \n",
       "3  https://m.media-amazon.com/images/M/MV5BMWMwMG...  \n",
       "4  https://m.media-amazon.com/images/M/MV5BMWU4N2...  "
      ]
     },
     "execution_count": 4,
     "metadata": {},
     "output_type": "execute_result"
    }
   ],
   "source": [
    "#Top 5 rows in the dataset\n",
    "df.head()"
   ]
  },
  {
   "cell_type": "code",
   "execution_count": 5,
   "id": "113fc93e",
   "metadata": {},
   "outputs": [
    {
     "data": {
      "text/plain": [
       "rank             0\n",
       "id               0\n",
       "name             0\n",
       "year             0\n",
       "imbd_votes       0\n",
       "imdb_rating      0\n",
       "certificate      1\n",
       "duration         0\n",
       "genre            0\n",
       "cast_id          0\n",
       "cast_name        0\n",
       "director_id      0\n",
       "director_name    0\n",
       "writter_name     0\n",
       "writter_id       0\n",
       "img_link         0\n",
       "dtype: int64"
      ]
     },
     "execution_count": 5,
     "metadata": {},
     "output_type": "execute_result"
    }
   ],
   "source": [
    "#To check if there are any null values in the dataset\n",
    "df.isnull().sum()"
   ]
  },
  {
   "cell_type": "code",
   "execution_count": 6,
   "id": "ea49760f",
   "metadata": {
    "scrolled": true
   },
   "outputs": [
    {
     "name": "stdout",
     "output_type": "stream",
     "text": [
      "<class 'pandas.core.frame.DataFrame'>\n",
      "RangeIndex: 250 entries, 0 to 249\n",
      "Data columns (total 16 columns):\n",
      " #   Column         Non-Null Count  Dtype  \n",
      "---  ------         --------------  -----  \n",
      " 0   rank           250 non-null    int64  \n",
      " 1   id             250 non-null    object \n",
      " 2   name           250 non-null    object \n",
      " 3   year           250 non-null    int64  \n",
      " 4   imbd_votes     250 non-null    int64  \n",
      " 5   imdb_rating    250 non-null    float64\n",
      " 6   certificate    249 non-null    object \n",
      " 7   duration       250 non-null    object \n",
      " 8   genre          250 non-null    object \n",
      " 9   cast_id        250 non-null    object \n",
      " 10  cast_name      250 non-null    object \n",
      " 11  director_id    250 non-null    object \n",
      " 12  director_name  250 non-null    object \n",
      " 13  writter_name   250 non-null    object \n",
      " 14  writter_id     250 non-null    object \n",
      " 15  img_link       250 non-null    object \n",
      "dtypes: float64(1), int64(3), object(12)\n",
      "memory usage: 31.4+ KB\n"
     ]
    }
   ],
   "source": [
    "df.info()"
   ]
  },
  {
   "cell_type": "code",
   "execution_count": 7,
   "id": "2a2f71c0",
   "metadata": {},
   "outputs": [
    {
     "data": {
      "text/plain": [
       "(250, 16)"
      ]
     },
     "execution_count": 7,
     "metadata": {},
     "output_type": "execute_result"
    }
   ],
   "source": [
    "#Number of rows and columns in the dataset taken\n",
    "df.shape"
   ]
  },
  {
   "cell_type": "code",
   "execution_count": 8,
   "id": "a40c15c9",
   "metadata": {},
   "outputs": [
    {
     "name": "stdout",
     "output_type": "stream",
     "text": [
      "rank,id,name,year,imbd_votes,imdb_rating,certificate,duration,genre,cast_id,cast_name,director_id,director_name,writter_name,writter_id,img_link,"
     ]
    }
   ],
   "source": [
    "#Attributes in the Dataset\n",
    "for i in df.columns:\n",
    "    print(i,end=\",\")"
   ]
  },
  {
   "cell_type": "code",
   "execution_count": 9,
   "id": "c2f48870",
   "metadata": {},
   "outputs": [
    {
     "name": "stdout",
     "output_type": "stream",
     "text": [
      "The Shawshank Redemption\n",
      "The Godfather\n",
      "The Dark Knight\n",
      "The Godfather Part II\n",
      "12 Angry Men\n"
     ]
    }
   ],
   "source": [
    "#1.Top 5 imdb most rated movie names\n",
    "for name in df.head()['name'].values:\n",
    "    print(name)\n"
   ]
  },
  {
   "cell_type": "code",
   "execution_count": 10,
   "id": "92e1b32f",
   "metadata": {},
   "outputs": [
    {
     "name": "stdout",
     "output_type": "stream",
     "text": [
      "The Shawshank Redemption\n",
      "The Dark Knight\n",
      "Inception\n",
      "Fight Club\n",
      "Forrest Gump\n"
     ]
    }
   ],
   "source": [
    "#2.Top most 5 voted movies\n",
    "for name in df.sort_values(by='imbd_votes', ascending = False).head()['name'].values:\n",
    "    print(name)\n"
   ]
  },
  {
   "cell_type": "code",
   "execution_count": 11,
   "id": "8839ae98",
   "metadata": {},
   "outputs": [
    {
     "name": "stdout",
     "output_type": "stream",
     "text": [
      "Dersu Uzala\n"
     ]
    }
   ],
   "source": [
    "#3.Oldest Movie in the dataset\n",
    "for name in df.sort_values(by='imbd_votes', ascending = True).head(1)['name'].values:\n",
    "    print(name)\n"
   ]
  },
  {
   "cell_type": "code",
   "execution_count": 12,
   "id": "28e71287",
   "metadata": {},
   "outputs": [
    {
     "name": "stdout",
     "output_type": "stream",
     "text": [
      "14\n"
     ]
    }
   ],
   "source": [
    "#4.To obtain the movie of only particular genre Ex:Crime,Drama\n",
    "c=0\n",
    "for genre in df['genre']:\n",
    "    if genre=='Crime,Drama':\n",
    "        c+=1\n",
    "print(c)"
   ]
  },
  {
   "cell_type": "code",
   "execution_count": 13,
   "id": "6afa58db",
   "metadata": {},
   "outputs": [
    {
     "name": "stdout",
     "output_type": "stream",
     "text": [
      "33\n"
     ]
    }
   ],
   "source": [
    "#5.To obtain the movies that are included with some particular genre Ex:Crime,Drama along with some other genre\n",
    "c=0\n",
    "for genre in df['genre']:\n",
    "    if (genre in 'Crime,Drama'):\n",
    "        c+=1\n",
    "print(c)"
   ]
  },
  {
   "cell_type": "code",
   "execution_count": 14,
   "id": "5c0cb583",
   "metadata": {},
   "outputs": [
    {
     "data": {
      "text/plain": [
       "['Sci-Fi',\n",
       " 'Family',\n",
       " 'Western',\n",
       " 'Horror',\n",
       " 'History',\n",
       " 'War',\n",
       " 'Biography',\n",
       " 'Action',\n",
       " 'Drama',\n",
       " 'Crime',\n",
       " 'Thriller',\n",
       " 'Music',\n",
       " 'Mystery',\n",
       " 'Comedy',\n",
       " 'Film-Noir',\n",
       " 'Romance',\n",
       " 'Animation',\n",
       " 'Fantasy',\n",
       " 'Musical',\n",
       " 'Adventure',\n",
       " 'Sport']"
      ]
     },
     "execution_count": 14,
     "metadata": {},
     "output_type": "execute_result"
    }
   ],
   "source": [
    "#6.Unique genre available\n",
    "genres=[]\n",
    "for i in df['genre']:\n",
    "    genres +=i.split(',')\n",
    "uni_gen=list(set(genres))\n",
    "uni_gen"
   ]
  },
  {
   "cell_type": "code",
   "execution_count": 15,
   "id": "ed8e0149",
   "metadata": {},
   "outputs": [
    {
     "name": "stdout",
     "output_type": "stream",
     "text": [
      "Sci-Fi -- 20\n",
      "Family -- 13\n",
      "Western -- 6\n",
      "Horror -- 6\n",
      "History -- 10\n",
      "War -- 23\n",
      "Biography -- 29\n",
      "Action -- 49\n",
      "Drama -- 177\n",
      "Crime -- 51\n",
      "Thriller -- 30\n",
      "Music -- 5\n",
      "Mystery -- 31\n",
      "Comedy -- 47\n",
      "Film-Noir -- 4\n",
      "Romance -- 23\n",
      "Animation -- 23\n",
      "Fantasy -- 16\n",
      "Musical -- 1\n",
      "Adventure -- 59\n",
      "Sport -- 5\n"
     ]
    }
   ],
   "source": [
    "#7.To know how many times each genre is there in the dataset\n",
    "for gen in uni_gen:\n",
    "    c=0\n",
    "    for genre in df['genre']:\n",
    "        if (gen in genre):\n",
    "            c+=1\n",
    "    print(gen,'--',c)"
   ]
  },
  {
   "cell_type": "code",
   "execution_count": 16,
   "id": "966c0e13",
   "metadata": {},
   "outputs": [
    {
     "data": {
      "text/plain": [
       "<AxesSubplot:>"
      ]
     },
     "execution_count": 16,
     "metadata": {},
     "output_type": "execute_result"
    },
    {
     "data": {
      "image/png": "[encoded data removed]",
      "text/plain": [
       "<Figure size 720x432 with 1 Axes>"
      ]
     },
     "metadata": {
      "needs_background": "light"
     },
     "output_type": "display_data"
    }
   ],
   "source": [
    "#8.What are the most common genres?\n",
    "common_genres = df['genre'].str.split(',', expand=True).stack().value_counts()\n",
    "common_genres.plot(kind='bar', figsize=(10, 6))\n"
   ]
  },
  {
   "cell_type": "code",
   "execution_count": 17,
   "id": "eb8387b8",
   "metadata": {},
   "outputs": [
    {
     "data": {
      "text/plain": [
       "<AxesSubplot:xlabel='director_name'>"
      ]
     },
     "execution_count": 17,
     "metadata": {},
     "output_type": "execute_result"
    },
    {
     "data": {
      "image/png": "[encoded data removed]",
      "text/plain": [
       "<Figure size 720x432 with 1 Axes>"
      ]
     },
     "metadata": {
      "needs_background": "light"
     },
     "output_type": "display_data"
    }
   ],
   "source": [
    "#9.Who are the top-rated directors?\n",
    "top_directors = df.groupby('director_name')['imdb_rating'].mean().nlargest(10)\n",
    "top_directors.plot(kind='bar', figsize=(10, 6))\n"
   ]
  },
  {
   "cell_type": "code",
   "execution_count": 18,
   "id": "8eb92570",
   "metadata": {},
   "outputs": [
    {
     "data": {
      "text/plain": [
       "128.84337349397592"
      ]
     },
     "execution_count": 18,
     "metadata": {},
     "output_type": "execute_result"
    }
   ],
   "source": [
    "#10.What is the average duration of movies?\n",
    "df['duration'] = pd.to_numeric(df['duration'], errors='coerce')\n",
    "average_duration = df['duration'].mean()\n",
    "average_duration\n"
   ]
  },
  {
   "cell_type": "code",
   "execution_count": 19,
   "id": "c9223340",
   "metadata": {},
   "outputs": [
    {
     "data": {
      "text/html": [
       "<div>\n",
       "<style scoped>\n",
       "    .dataframe tbody tr th:only-of-type {\n",
       "        vertical-align: middle;\n",
       "    }\n",
       "\n",
       "    .dataframe tbody tr th {\n",
       "        vertical-align: top;\n",
       "    }\n",
       "\n",
       "    .dataframe thead th {\n",
       "        text-align: right;\n",
       "    }\n",
       "</style>\n",
       "<table border=\"1\" class=\"dataframe\">\n",
       "  <thead>\n",
       "    <tr style=\"text-align: right;\">\n",
       "      <th></th>\n",
       "      <th>name</th>\n",
       "      <th>director_name</th>\n",
       "    </tr>\n",
       "  </thead>\n",
       "  <tbody>\n",
       "    <tr>\n",
       "      <th>12</th>\n",
       "      <td>Inception</td>\n",
       "      <td>Christopher Nolan</td>\n",
       "    </tr>\n",
       "    <tr>\n",
       "      <th>27</th>\n",
       "      <td>Star Wars</td>\n",
       "      <td>George Lucas</td>\n",
       "    </tr>\n",
       "    <tr>\n",
       "      <th>30</th>\n",
       "      <td>Sen to Chihiro no kamikakushi</td>\n",
       "      <td>Hayao Miyazaki</td>\n",
       "    </tr>\n",
       "    <tr>\n",
       "      <th>33</th>\n",
       "      <td>Léon</td>\n",
       "      <td>Luc Besson</td>\n",
       "    </tr>\n",
       "    <tr>\n",
       "      <th>43</th>\n",
       "      <td>Whiplash</td>\n",
       "      <td>Damien Chazelle</td>\n",
       "    </tr>\n",
       "    <tr>\n",
       "      <th>45</th>\n",
       "      <td>Modern Times</td>\n",
       "      <td>Charles Chaplin</td>\n",
       "    </tr>\n",
       "    <tr>\n",
       "      <th>56</th>\n",
       "      <td>Django Unchained</td>\n",
       "      <td>Quentin Tarantino</td>\n",
       "    </tr>\n",
       "    <tr>\n",
       "      <th>58</th>\n",
       "      <td>The Lives of Others</td>\n",
       "      <td>Florian Henckel von Donnersmarck</td>\n",
       "    </tr>\n",
       "    <tr>\n",
       "      <th>62</th>\n",
       "      <td>The Great Dictator</td>\n",
       "      <td>Charles Chaplin</td>\n",
       "    </tr>\n",
       "    <tr>\n",
       "      <th>77</th>\n",
       "      <td>Inglourious Basterds</td>\n",
       "      <td>Quentin Tarantino</td>\n",
       "    </tr>\n",
       "  </tbody>\n",
       "</table>\n",
       "</div>"
      ],
      "text/plain": [
       "                             name                     director_name\n",
       "12                      Inception                 Christopher Nolan\n",
       "27                      Star Wars                      George Lucas\n",
       "30  Sen to Chihiro no kamikakushi                    Hayao Miyazaki\n",
       "33                           Léon                        Luc Besson\n",
       "43                       Whiplash                   Damien Chazelle\n",
       "45                   Modern Times                   Charles Chaplin\n",
       "56               Django Unchained                 Quentin Tarantino\n",
       "58            The Lives of Others  Florian Henckel von Donnersmarck\n",
       "62             The Great Dictator                   Charles Chaplin\n",
       "77           Inglourious Basterds                 Quentin Tarantino"
      ]
     },
     "execution_count": 19,
     "metadata": {},
     "output_type": "execute_result"
    }
   ],
   "source": [
    "#11.Which movies have the same director and writer?\n",
    "same_director_writer = df[df['director_id'] == df['writter_id']]\n",
    "same_director_writer[['name', 'director_name']].head(10)\n"
   ]
  },
  {
   "cell_type": "code",
   "execution_count": 20,
   "id": "04b21a5a",
   "metadata": {
    "scrolled": true
   },
   "outputs": [
    {
     "data": {
      "text/plain": [
       "<AxesSubplot:>"
      ]
     },
     "execution_count": 20,
     "metadata": {},
     "output_type": "execute_result"
    },
    {
     "data": {
      "image/png": "[encoded data removed]",
      "text/plain": [
       "<Figure size 720x432 with 1 Axes>"
      ]
     },
     "metadata": {
      "needs_background": "light"
     },
     "output_type": "display_data"
    }
   ],
   "source": [
    "#12.Who are the most frequent cast members in movies?\n",
    "top_cast_members = df['cast_name'].str.split(',', expand=True).stack().value_counts().head(10)\n",
    "top_cast_members.plot(kind='bar', figsize=(10, 6))"
   ]
  },
  {
   "cell_type": "code",
   "execution_count": 21,
   "id": "6fd38d95",
   "metadata": {
    "scrolled": true
   },
   "outputs": [
    {
     "data": {
      "image/png": "[encoded data removed]",
      "text/plain": [
       "<Figure size 432x288 with 1 Axes>"
      ]
     },
     "metadata": {
      "needs_background": "light"
     },
     "output_type": "display_data"
    }
   ],
   "source": [
    "#13.Plotting IMDb rating vs. number of votes\n",
    "\n",
    "sns.scatterplot(data=df, x='imbd_votes', y='imdb_rating')\n",
    "plt.title('IMDb Rating vs. Number of Votes')\n",
    "plt.xlabel('Number of Votes')\n",
    "plt.ylabel('IMDb Rating')\n",
    "plt.show()"
   ]
  },
  {
   "cell_type": "code",
   "execution_count": 22,
   "id": "18f41b95",
   "metadata": {},
   "outputs": [
    {
     "data": {
      "image/png": "[encoded data removed]",
      "text/plain": [
       "<Figure size 432x288 with 1 Axes>"
      ]
     },
     "metadata": {
      "needs_background": "light"
     },
     "output_type": "display_data"
    }
   ],
   "source": [
    "#14.Convert 'duration' column to numeric\n",
    "df['duration'] = pd.to_numeric(df['duration'], errors='coerce')\n",
    "#16.Plotting movie duration distribution\n",
    "sns.boxplot(data=df, y='duration')\n",
    "plt.title('Movie Duration Distribution')\n",
    "plt.xlabel('Duration')\n",
    "plt.ylabel('Movie Duration')\n",
    "plt.show()"
   ]
  }
 ],
 "metadata": {
  "kernelspec": {
   "display_name": "Python 3 (ipykernel)",
   "language": "python",
   "name": "python3"
  },
  "language_info": {
   "codemirror_mode": {
    "name": "ipython",
    "version": 3
   },
   "file_extension": ".py",
   "mimetype": "text/x-python",
   "name": "python",
   "nbconvert_exporter": "python",
   "pygments_lexer": "ipython3",
   "version": "3.9.7"
  }
 },
 "nbformat": 4,
 "nbformat_minor": 5
}
